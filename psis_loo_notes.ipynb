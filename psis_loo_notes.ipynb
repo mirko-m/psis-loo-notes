{
 "cells": [
  {
   "cell_type": "markdown",
   "id": "b7a5fea9",
   "metadata": {},
   "source": [
    "Starting from Eq. (6) of the paper Practical Bayesian model evaluation using leave-one-out cross-validation and\n",
    "WAIC by Vehtari et al. (https://stat.columbia.edu/~gelman/research/published/loo_stan.pdf) "
   ]
  },
  {
   "cell_type": "markdown",
   "id": "aed8040a",
   "metadata": {},
   "source": [
    "$$\n",
    "r_i^s = \\frac{1}{p(y_i | \\theta^s)}\n",
    "$$"
   ]
  },
  {
   "cell_type": "markdown",
   "id": "b1bba595",
   "metadata": {},
   "source": [
    "Note that we have (Bayes Theorem and statistical independence of the $y_i$)\n",
    "\n",
    "$$\n",
    "p(\\theta | y) = \\frac{p(y| \\theta) p(\\theta)}{p(y)} \\\\\n",
    "\\Leftrightarrow p(\\theta | y) = \\frac{\\Pi_{j=1}^n p(y_j | \\theta) p(\\theta)}{p(y)} \\\\\n",
    "\\Leftrightarrow p(\\theta | y) = p(y_i | \\theta) \\frac{\\Pi_{j=1, j\\neq i}^n p(y_j | \\theta) p(\\theta)}{p(y)} \\\\\n",
    "\\Leftrightarrow \\frac{1}{p(y_i | \\theta)} =  \\frac{1}{p(\\theta | y)} \\frac{\\Pi_{j=1, j\\neq i}^n p(y_j | \\theta) p(\\theta)}{p(y)}\n",
    "$$"
   ]
  },
  {
   "cell_type": "markdown",
   "id": "a7b24777",
   "metadata": {},
   "source": [
    "Now the second fraction on the right hand side should be approximately equal to\n",
    "\n",
    "$$\n",
    "\\frac{\\Pi_{j=1, j\\neq i}^n p(y_j | \\theta) p(\\theta)}{p(y)} = \\frac{ p(y_{-i} | \\theta) p(\\theta)}{p(y)} \\approx p(\\theta | y_{-i})\n",
    "$$\n",
    "\n",
    "This equivalence is only approximate because in the denominator we have $p(y)$ and not $p(y_{-i})$"
   ]
  },
  {
   "cell_type": "markdown",
   "id": "e343b643",
   "metadata": {},
   "source": [
    "This means that we have\n",
    "\n",
    "$$\n",
    "r_i^s = \\frac{1}{p(y_i | \\theta^s)} \\approx \\frac{p(\\theta^s | y_{-i})}{p(\\theta^s| y)}\n",
    "$$\n",
    "\n",
    "which is basically Eq. (6) of the paper."
   ]
  },
  {
   "cell_type": "markdown",
   "id": "f93e6834",
   "metadata": {},
   "source": [
    "Now note that the sum $\\sum_{s=1}^S$ is over samples from the posterior, which means that in the limit of many samples we have $\\sum_{s=1}^S \\rightarrow \\int \\mathrm{d} \\theta \\ p(\\theta | y)$ . This is important, because it means that if we have some function $f(\\theta)$ then we have\n",
    "\n",
    "$$\n",
    "\\sum_{s=1}^S r_i^s f(\\theta^s) \\approx \\sum_{s=1}^S \\frac{p(\\theta^s | y_{-i})}{p(\\theta^s | y)} f(\\theta^s) \n",
    "\\rightarrow \\int \\mathrm{d} \\theta \\ p(\\theta | y) \\frac{p(\\theta | y_{-i})}{p(\\theta | y)} f(\\theta) =\n",
    "\\int \\mathrm{d} \\theta \\ p(\\theta | y_{-i}) f(\\theta)\n",
    "$$"
   ]
  },
  {
   "cell_type": "markdown",
   "id": "4dbd7e01",
   "metadata": {},
   "source": [
    "The equation above is not normalized properly, but I am going to ignore this."
   ]
  },
  {
   "cell_type": "markdown",
   "id": "fb9562aa",
   "metadata": {},
   "source": [
    "Now plug in $p(\\tilde{y}_{i} | \\theta^s)$ for $f(\\theta^s)$ and we get\n",
    "\n",
    "$$\n",
    "\\sum_{s=1}^S r_i^s p(\\tilde{y}_{i} | \\theta^s) \\approx \\int \\mathrm{d} \\theta \\ p(\\theta | y_{-i}) p(\\tilde{y}_{i} | \\theta)\n",
    "$$\n",
    "\n",
    "Using the chain rule of probability we can simplify $p(\\tilde{y}_{i} | \\theta) p(\\theta | y_{-i}) = p(\\tilde{y}_{i}, \\theta | y_{-i})$ . Maybe this is a bit handwavy, because we would really need to have $p(\\tilde{y}_{i} | \\theta, y_{-i}) p(\\theta | y_{-i})$, but I think that this is correct and it is also the same as Eq. (5) from the paper. Plugging this into the equation above we obtain\n",
    "\n",
    "$$\n",
    "\\sum_{s=1}^S r_i^s p(\\tilde{y}_{i} | \\theta^s) \\approx \\int \\mathrm{d} \\theta \\ p(\\tilde{y}_{i}, \\theta | y_{-i}) \n",
    "= p(\\tilde{y}_i | y_{-i})\n",
    "$$"
   ]
  },
  {
   "cell_type": "code",
   "execution_count": null,
   "id": "94403232",
   "metadata": {},
   "outputs": [],
   "source": []
  }
 ],
 "metadata": {
  "kernelspec": {
   "display_name": "Python 3 (ipykernel)",
   "language": "python",
   "name": "python3"
  },
  "language_info": {
   "codemirror_mode": {
    "name": "ipython",
    "version": 3
   },
   "file_extension": ".py",
   "mimetype": "text/x-python",
   "name": "python",
   "nbconvert_exporter": "python",
   "pygments_lexer": "ipython3",
   "version": "3.8.10"
  }
 },
 "nbformat": 4,
 "nbformat_minor": 5
}
